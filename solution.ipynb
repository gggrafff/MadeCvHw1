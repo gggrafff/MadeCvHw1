{
 "cells": [
  {
   "cell_type": "markdown",
   "metadata": {
    "colab_type": "text",
    "id": "nvgNBh6ATK0k"
   },
   "source": [
    "Убедимся, что получили ресурсы:"
   ]
  },
  {
   "cell_type": "code",
   "execution_count": null,
   "metadata": {
    "colab": {
     "base_uri": "https://localhost:8080/",
     "height": 329
    },
    "colab_type": "code",
    "id": "suZShJxqr_Ya",
    "outputId": "50f7c728-e20c-49c4-b9d8-3ad5b9414187"
   },
   "outputs": [],
   "source": [
    "gpu_info = !nvidia-smi\n",
    "gpu_info = '\\n'.join(gpu_info)\n",
    "if gpu_info.find('failed') >= 0:\n",
    "  print('Select the Runtime → \"Change runtime type\" menu to enable a GPU accelerator, ')\n",
    "  print('and then re-execute this cell.')\n",
    "else:\n",
    "  print(gpu_info)"
   ]
  },
  {
   "cell_type": "code",
   "execution_count": null,
   "metadata": {
    "colab": {
     "base_uri": "https://localhost:8080/",
     "height": 72
    },
    "colab_type": "code",
    "id": "s9yUwI7FTJjz",
    "outputId": "fb50946e-6b95-42d5-9ab0-ef500d539f3b"
   },
   "outputs": [],
   "source": [
    "from psutil import virtual_memory\n",
    "ram_gb = virtual_memory().total / 1e9\n",
    "print('Your runtime has {:.1f} gigabytes of available RAM\\n'.format(ram_gb))\n",
    "\n",
    "if ram_gb < 20:\n",
    "  print('To enable a high-RAM runtime, select the Runtime → \"Change runtime type\"')\n",
    "  print('menu, and then select High-RAM in the Runtime shape dropdown. Then, ')\n",
    "  print('re-execute this cell.')\n",
    "else:\n",
    "  print('You are using a high-RAM runtime!')"
   ]
  },
  {
   "cell_type": "markdown",
   "metadata": {
    "colab_type": "text",
    "id": "t7PNI_Vtvl8P"
   },
   "source": [
    "Добавить себе оперативной памяти в colab можно так:"
   ]
  },
  {
   "cell_type": "code",
   "execution_count": null,
   "metadata": {
    "colab": {},
    "colab_type": "code",
    "id": "YwfQl37opQTP"
   },
   "outputs": [],
   "source": [
    "a = []\n",
    "while(1):\n",
    "    a.append('1')"
   ]
  },
  {
   "cell_type": "markdown",
   "metadata": {
    "colab_type": "text",
    "id": "fJDRp_WLqMd1"
   },
   "source": [
    "Сделаем так, чтобы блокнот не отключался через 90 минут бездействия. Это нужно выполнить в консоли браузера:\n",
    "```\n",
    "function ConnectButton(){  \n",
    "  console.log(\"Connect pushed\");  \n",
    "  document.querySelector(\"colab-connect-button\").click();  \n",
    "}  \n",
    "setInterval(ConnectButton,60000);  \n",
    "```\n"
   ]
  },
  {
   "cell_type": "markdown",
   "metadata": {
    "colab_type": "text",
    "id": "dbESx8WYvy5T"
   },
   "source": [
    "Смонтируем GDrive:"
   ]
  },
  {
   "cell_type": "code",
   "execution_count": null,
   "metadata": {
    "colab": {
     "base_uri": "https://localhost:8080/",
     "height": 129
    },
    "colab_type": "code",
    "id": "1SMh8A3-44Fr",
    "outputId": "123f60e2-39ee-4b19-aa49-e62f313a80bc"
   },
   "outputs": [],
   "source": [
    "from google.colab import drive\n",
    "drive.mount('/content/drive')"
   ]
  },
  {
   "cell_type": "markdown",
   "metadata": {
    "colab_type": "text",
    "id": "3XcjgrzUvswn"
   },
   "source": [
    "Первый вариант загрузки данных:  \n",
    "1) Копируем данные из GDrive  \n",
    "2) Распаковываем  \n",
    "3) Удаляем архив  \n",
    "4) Забираем из GDrive данные о тестовых точках"
   ]
  },
  {
   "cell_type": "markdown",
   "metadata": {
    "colab": {
     "base_uri": "https://localhost:8080/",
     "height": 72
    },
    "colab_type": "code",
    "id": "v_-HVXTm7qEd",
    "outputId": "ada2e05f-48d8-4746-bca4-3a97013dc812"
   },
   "source": [
    "```\n",
    "%%time\n",
    "!cp \"/content/drive/My Drive/MADE/CV_HW1/data.zip\" \"/content/data.zip\"\n",
    "%cd \"/content/\"\n",
    "!unzip -nq data.zip\n",
    "!rm data.zip\n",
    "!cp \"/content/drive/My Drive/MADE/CV_HW1/test_points.csv\" \"/content/data/test/test_points.csv\"\n",
    "```"
   ]
  },
  {
   "cell_type": "markdown",
   "metadata": {
    "colab_type": "text",
    "id": "Zn4uUuPJwpRG"
   },
   "source": [
    "Второй вариант загрузки данных:  \n",
    "1) Забираем из GDrive токен для доступа к api kaggle  \n",
    "2) Загружаем датасет из kaggle  \n",
    "3) Распаковываем  \n",
    "4) Удаляем архив  "
   ]
  },
  {
   "cell_type": "code",
   "execution_count": null,
   "metadata": {
    "colab": {
     "base_uri": "https://localhost:8080/",
     "height": 146
    },
    "colab_type": "code",
    "id": "qP9Qku8YxAIp",
    "outputId": "af4d1f29-6261-4814-f1e0-7ab51cc070d8"
   },
   "outputs": [],
   "source": [
    "%%time\n",
    "!cp \"/content/drive/My Drive/MADE/CV_HW1/kaggle.json\" \"/content/kaggle.json\"\n",
    "%cd \"/content/\"\n",
    "!ls -lha kaggle.json\n",
    "!pip install -q kaggle\n",
    "!mkdir -p ~/.kaggle\n",
    "!cp kaggle.json ~/.kaggle/\n",
    "!chmod 600 ~/.kaggle/kaggle.json\n",
    "!kaggle datasets download -d andargunov/thousand-facial-landmarks\n",
    "!unzip -nq thousand-facial-landmarks.zip\n",
    "!rm thousand-facial-landmarks.zip"
   ]
  },
  {
   "cell_type": "markdown",
   "metadata": {
    "colab_type": "text",
    "id": "Ne93xSgVLdV1"
   },
   "source": [
    "Установим зависимости:"
   ]
  },
  {
   "cell_type": "code",
   "execution_count": null,
   "metadata": {
    "colab": {
     "base_uri": "https://localhost:8080/",
     "height": 257
    },
    "colab_type": "code",
    "id": "3IhSPFdXLbuL",
    "outputId": "8d924fb7-092c-456d-f8e1-cda47d92d335"
   },
   "outputs": [],
   "source": [
    "!pip install --upgrade efficientnet-pytorch"
   ]
  },
  {
   "cell_type": "code",
   "execution_count": null,
   "metadata": {
    "colab": {
     "base_uri": "https://localhost:8080/",
     "height": 1000
    },
    "colab_type": "code",
    "id": "IIPC2WllLb3R",
    "outputId": "54a83139-b56e-4396-d2d8-73452363913f",
    "scrolled": true
   },
   "outputs": [],
   "source": [
    "!git clone \"https://github.com/LiyuanLucasLiu/RAdam.git\"\n",
    "%cd ./RAdam\n",
    "!python3 ./setup.py install\n",
    "%cd ../"
   ]
  },
  {
   "cell_type": "markdown",
   "metadata": {
    "colab_type": "text",
    "id": "nhRs7t92yGpv"
   },
   "source": [
    "Загрузим скрипты, выполняющие решение задачи:"
   ]
  },
  {
   "cell_type": "code",
   "execution_count": null,
   "metadata": {
    "colab": {
     "base_uri": "https://localhost:8080/",
     "height": 127
    },
    "colab_type": "code",
    "id": "Rqu6F0zoySNo",
    "outputId": "75996e96-16c6-4fd9-a66a-3ddc683452f2"
   },
   "outputs": [],
   "source": [
    "!git clone \"https://github.com/gggrafff/MadeCvHw1.git\""
   ]
  },
  {
   "cell_type": "markdown",
   "metadata": {
    "colab_type": "text",
    "id": "vMJpH779yUTT"
   },
   "source": [
    "Обновить код можно так:"
   ]
  },
  {
   "cell_type": "markdown",
   "metadata": {
    "colab": {
     "base_uri": "https://localhost:8080/",
     "height": 237
    },
    "colab_type": "code",
    "id": "qWmhpKl3yWDO",
    "outputId": "ebbc181a-9bdf-4fc7-ee50-f4466f783faa"
   },
   "source": [
    "```\n",
    "%cd \"./MadeCvHw1\"\n",
    "!git pull\n",
    "```"
   ]
  },
  {
   "cell_type": "markdown",
   "metadata": {
    "colab_type": "text",
    "id": "2HBaZT9Dybur"
   },
   "source": [
    "Запускаем решение и копируем результат в GDrive:"
   ]
  },
  {
   "cell_type": "code",
   "execution_count": null,
   "metadata": {},
   "outputs": [],
   "source": [
    "%cd \"./MadeCvHw1\"\n",
    "datapath = \"/content/data\""
   ]
  },
  {
   "cell_type": "code",
   "execution_count": null,
   "metadata": {},
   "outputs": [],
   "source": [
    "%%time\n",
    "solvname = \"fenb4_e35_radam_lr001_bs192_shed\"\n",
    "!python hack_train.py --name $solvname --data \"/content/data\" --gpu --batch-size 192 --epochs 35 --learning-rate 0.001"
   ]
  },
  {
   "cell_type": "code",
   "execution_count": null,
   "metadata": {
    "colab": {
     "base_uri": "https://localhost:8080/",
     "height": 1000
    },
    "colab_type": "code",
    "id": "rGsOZqH-7p7m",
    "outputId": "cc9c3426-297c-4207-961f-c461e1561804",
    "scrolled": true
   },
   "outputs": [],
   "source": [
    "%%time\n",
    "oldname = \"fenb4_e35_radam_lr001_bs192_shed\"\n",
    "solvname = \"fenb4_e35_15_radam_lr001_0015_bs192_shed\"\n",
    "!python hack_train.py --name $solvname --data $datapath --gpu --batch-size 192 --epochs 15 --learning-rate 0.0015 --oldname $oldname"
   ]
  },
  {
   "cell_type": "code",
   "execution_count": null,
   "metadata": {},
   "outputs": [],
   "source": [
    "oldname=\"fenb4_e35_15_radam_lr001_0015_bs192_shed\"\n",
    "solvname=\"fenb4_e35_15_25_radam_lr001_0015_0015_bs192_shed\"\n",
    "python hack_train.py --name $solvname --data $datapath --gpu --batch-size 192 --epochs 25 --learning-rate 0.0015 --oldname $oldname"
   ]
  },
  {
   "cell_type": "markdown",
   "metadata": {},
   "source": [
    "Мой лучший сабмит:"
   ]
  },
  {
   "cell_type": "code",
   "execution_count": null,
   "metadata": {
    "colab": {},
    "colab_type": "code",
    "id": "XFb7ZOnW7qKM"
   },
   "outputs": [],
   "source": [
    "!cp ./$solvname* \"/content/drive/My Drive/MADE/CV_HW1/\""
   ]
  },
  {
   "cell_type": "markdown",
   "metadata": {},
   "source": [
    "Можно остановиться, но я продолжил:"
   ]
  },
  {
   "cell_type": "code",
   "execution_count": null,
   "metadata": {},
   "outputs": [],
   "source": [
    "oldname=\"fenb4_e35_15_25_radam_lr001_0015_0015_bs192_shed\"\n",
    "solvname=\"fenb4_e35_15_25_10_radam_lr001_0015_0015_0017_bs192_shed\"\n",
    "python hack_train.py --name $solvname --data $datapath --gpu --batch-size 192 --epochs 10 --learning-rate 0.0017 --oldname $oldname"
   ]
  },
  {
   "cell_type": "code",
   "execution_count": null,
   "metadata": {},
   "outputs": [],
   "source": [
    "oldname=\"fenb4_e35_15_25_10_radam_lr001_0015_0015_0017_bs192_shed\"\n",
    "solvname=\"fenb4_e35_15_25_10_35_radam_lr001_0015_0015_0017_001_bs192_shed\"\n",
    "python hack_train.py --name $solvname --data $datapath --gpu --batch-size 192 --epochs 35 --learning-rate 0.001 --oldname $oldname"
   ]
  },
  {
   "cell_type": "markdown",
   "metadata": {},
   "source": [
    "Мой последний сабмит:"
   ]
  },
  {
   "cell_type": "code",
   "execution_count": null,
   "metadata": {
    "colab": {},
    "colab_type": "code",
    "id": "vLX1rjCbbe9c"
   },
   "outputs": [],
   "source": [
    "!cp ./$solvname* \"/content/drive/My Drive/MADE/CV_HW1/\""
   ]
  }
 ],
 "metadata": {
  "colab": {
   "collapsed_sections": [],
   "name": "CV_HW1",
   "provenance": []
  },
  "kernelspec": {
   "display_name": "Python 3",
   "language": "python",
   "name": "python3"
  },
  "language_info": {
   "codemirror_mode": {
    "name": "ipython",
    "version": 3
   },
   "file_extension": ".py",
   "mimetype": "text/x-python",
   "name": "python",
   "nbconvert_exporter": "python",
   "pygments_lexer": "ipython3",
   "version": "3.7.4"
  }
 },
 "nbformat": 4,
 "nbformat_minor": 1
}
